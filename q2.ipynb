{
 "cells": [
  {
   "cell_type": "code",
   "execution_count": 2,
   "id": "db5cc087",
   "metadata": {},
   "outputs": [
    {
     "ename": "ImportError",
     "evalue": "dlopen(/opt/homebrew/lib/python3.10/site-packages/cvxopt/base.cpython-310-darwin.so, 0x0002): tried: '/opt/homebrew/lib/python3.10/site-packages/cvxopt/base.cpython-310-darwin.so' (mach-o file, but is an incompatible architecture (have (x86_64), need (arm64e)))",
     "output_type": "error",
     "traceback": [
      "\u001b[0;31m---------------------------------------------------------------------------\u001b[0m",
      "\u001b[0;31mImportError\u001b[0m                               Traceback (most recent call last)",
      "Input \u001b[0;32mIn [2]\u001b[0m, in \u001b[0;36m<cell line: 4>\u001b[0;34m()\u001b[0m\n\u001b[1;32m      2\u001b[0m \u001b[38;5;28;01mimport\u001b[39;00m \u001b[38;5;21;01msys\u001b[39;00m\n\u001b[1;32m      3\u001b[0m \u001b[38;5;28;01mimport\u001b[39;00m \u001b[38;5;21;01mpickle\u001b[39;00m\n\u001b[0;32m----> 4\u001b[0m \u001b[38;5;28;01mfrom\u001b[39;00m \u001b[38;5;21;01mcvxopt\u001b[39;00m \u001b[38;5;28;01mimport\u001b[39;00m matrix \u001b[38;5;28;01mas\u001b[39;00m cvxopt_matrix\n\u001b[1;32m      7\u001b[0m \u001b[38;5;66;03m#train_path = str(sys.argv[1])\u001b[39;00m\n\u001b[1;32m      8\u001b[0m \u001b[38;5;66;03m#test_path = str(sys.argv[1])\u001b[39;00m\n\u001b[1;32m      9\u001b[0m train_path \u001b[38;5;241m=\u001b[39m \u001b[38;5;124m'\u001b[39m\u001b[38;5;124mpart2_data/train_data.pickle\u001b[39m\u001b[38;5;124m'\u001b[39m\n",
      "File \u001b[0;32m/opt/homebrew/lib/python3.10/site-packages/cvxopt/__init__.py:50\u001b[0m, in \u001b[0;36m<module>\u001b[0;34m\u001b[0m\n\u001b[1;32m     33\u001b[0m __copyright__ \u001b[38;5;241m=\u001b[39m \u001b[38;5;124m\"\"\"\u001b[39m\u001b[38;5;124mCopyright (c) 2012-2022 M. Andersen and L. Vandenberghe.\u001b[39m\n\u001b[1;32m     34\u001b[0m \u001b[38;5;124mCopyright (c) 2010-2011 L. Vandenberghe.\u001b[39m\n\u001b[1;32m     35\u001b[0m \u001b[38;5;124mCopyright (c) 2004-2009 J. Dahl and L. Vandenberghe.\u001b[39m\u001b[38;5;124m\"\"\"\u001b[39m\n\u001b[1;32m     37\u001b[0m __license__ \u001b[38;5;241m=\u001b[39m \u001b[38;5;124m\"\"\"\u001b[39m\u001b[38;5;124mThis program is free software; you can redistribute it and/or modify\u001b[39m\n\u001b[1;32m     38\u001b[0m \u001b[38;5;124mit under the terms of the GNU General Public License as published by\u001b[39m\n\u001b[1;32m     39\u001b[0m \u001b[38;5;124mthe Free Software Foundation; either version 3 of the License, or\u001b[39m\n\u001b[0;32m   (...)\u001b[0m\n\u001b[1;32m     47\u001b[0m \u001b[38;5;124mYou should have received a copy of the GNU General Public License\u001b[39m\n\u001b[1;32m     48\u001b[0m \u001b[38;5;124malong with this program.  If not, see <http://www.gnu.org/licenses/>.\u001b[39m\u001b[38;5;124m\"\"\"\u001b[39m\n\u001b[0;32m---> 50\u001b[0m \u001b[38;5;28;01mimport\u001b[39;00m \u001b[38;5;21;01mcvxopt\u001b[39;00m\u001b[38;5;21;01m.\u001b[39;00m\u001b[38;5;21;01mbase\u001b[39;00m\n\u001b[1;32m     52\u001b[0m \u001b[38;5;28;01mdef\u001b[39;00m \u001b[38;5;21mcopyright\u001b[39m():\n\u001b[1;32m     53\u001b[0m     \u001b[38;5;28mprint\u001b[39m(__copyright__)\n",
      "\u001b[0;31mImportError\u001b[0m: dlopen(/opt/homebrew/lib/python3.10/site-packages/cvxopt/base.cpython-310-darwin.so, 0x0002): tried: '/opt/homebrew/lib/python3.10/site-packages/cvxopt/base.cpython-310-darwin.so' (mach-o file, but is an incompatible architecture (have (x86_64), need (arm64e)))"
     ]
    }
   ],
   "source": [
    "import numpy as np\n",
    "import sys\n",
    "import pickle\n",
    "from cvxopt import matrix as cvxopt_matrix\n",
    "\n",
    "\n",
    "#train_path = str(sys.argv[1])\n",
    "#test_path = str(sys.argv[1])\n",
    "train_path = 'part2_data/train_data.pickle'\n",
    "test_path = 'part2_data/test_data.pickle'\n",
    "train = pickle.load(open(train_path,'rb'))\n",
    "pos_data = []  \n",
    "neg_data = []\n",
    "for i in range(len(train['data'])):\n",
    "    if(train['labels'][i][0]==2):\n",
    "        pos_data.append(train['data'][i].flatten())\n",
    "    if(train['labels'][i][0]==1):\n",
    "        neg_data.append(train['data'][i].flatten())\n",
    "pos_data = np.array(pos_data)  # rows = no of test cases with that label and col = 3072\n",
    "neg_data = np.array(neg_data)\n",
    "print(pos_data)\n",
    "        \n",
    "\n",
    "\n"
   ]
  },
  {
   "cell_type": "code",
   "execution_count": null,
   "id": "4f5fd1af",
   "metadata": {},
   "outputs": [],
   "source": []
  },
  {
   "cell_type": "code",
   "execution_count": 17,
   "id": "389737bc",
   "metadata": {},
   "outputs": [
    {
     "name": "stdout",
     "output_type": "stream",
     "text": [
      "178599\n",
      "176435\n",
      "280617\n"
     ]
    }
   ],
   "source": [
    "pos_voc = {}\n",
    "neg_voc = {}\n",
    "tot_voc = {}\n",
    "\n",
    "len_pos_tot =0\n",
    "len_neg_tot = 0\n",
    "\n",
    "for i in range(len_train_pos):\n",
    "    f = open(train_pos_files[i], \"r\",encoding='utf8')\n",
    "    s=f.read()\n",
    "    #print(s)\n",
    "    s=s.split()\n",
    "    #print(s)\n",
    "    for j in range(len(s)):\n",
    "        len_pos_tot=len_pos_tot+1\n",
    "        if pos_voc.get(s[j])!=None:\n",
    "            pos_voc[s[j]] = pos_voc[s[j]]+1\n",
    "        else:\n",
    "            pos_voc[s[j]]=1\n",
    "\n",
    "        if tot_voc.get(s[j])!=None:\n",
    "            tot_voc[s[j]] = tot_voc[s[j]]+1\n",
    "        else:\n",
    "            tot_voc[s[j]]=1\n",
    "\n",
    "for i in range(len_train_neg):\n",
    "    f = open(train_neg_files[i], \"r\",encoding='utf8')\n",
    "    s=f.read()\n",
    "    #print(s)\n",
    "    s=s.split()\n",
    "    #print(s)\n",
    "    for j in range(len(s)):\n",
    "        len_neg_tot = len_neg_tot+1\n",
    "        if neg_voc.get(s[j])!=None:\n",
    "            neg_voc[s[j]] = neg_voc[s[j]]+1\n",
    "        else:\n",
    "            neg_voc[s[j]]=1\n",
    "\n",
    "        if tot_voc.get(s[j])!=None:\n",
    "            tot_voc[s[j]] = tot_voc[s[j]]+1\n",
    "        else:\n",
    "            tot_voc[s[j]]=1\n",
    "            \n",
    "            \n",
    "print(len(pos_voc))\n",
    "print(len(neg_voc))\n",
    "print(len(tot_voc))"
   ]
  },
  {
   "cell_type": "code",
   "execution_count": 20,
   "id": "6da6e7f8",
   "metadata": {},
   "outputs": [],
   "source": [
    "def predict(s):\n",
    "    s=s.split()\n",
    "    p1 = 0\n",
    "    n1 = 0\n",
    "    for i in range(len(s)):\n",
    "        if pos_voc.get(s[i])!=None or neg_voc.get(s[i])!=None :\n",
    "            if pos_voc.get(s[i])!=None:\n",
    "                p1 = p1 + math.log((pos_voc.get(s[i])+1)/(len_pos_tot+len(s)))\n",
    "            else:\n",
    "                p1 = p1 + math.log(1/(len(s)+len_pos_tot))\n",
    "            if(neg_voc.get(s[i])!=None):\n",
    "                n1 = n1 + math.log((neg_voc.get(s[i])+1)/(len_neg_tot+len(s)))\n",
    "            else:\n",
    "                n1 = n1 + math.log(1/(len(s)+len_neg_tot))\n",
    "    if(p1>=n1):\n",
    "        return True\n",
    "    return False"
   ]
  },
  {
   "cell_type": "code",
   "execution_count": 23,
   "id": "0cacbf62",
   "metadata": {},
   "outputs": [
    {
     "name": "stdout",
     "output_type": "stream",
     "text": [
      "7667\n",
      "601\n",
      "2333\n",
      "4399\n",
      "0.8044\n"
     ]
    }
   ],
   "source": [
    "tp = 0\n",
    "fp = 0\n",
    "fn = 0\n",
    "tn = 0\n",
    "for i in range(len_test_pos):\n",
    "    f = open(test_pos_files[i], \"r\",encoding='utf8')\n",
    "    s=f.read()\n",
    "    if (predict(s)):\n",
    "        tp = tp+1 \n",
    "    else:\n",
    "        fn = fn+1\n",
    "        \n",
    "for i in range(len_test_neg):\n",
    "    f = open(test_neg_files[i], \"r\",encoding='utf8')\n",
    "    s=f.read()\n",
    "    if (predict(s)):\n",
    "        fp = fp+1 \n",
    "    else:\n",
    "        tn = tn+1\n",
    "print(tp)\n",
    "print(fp)\n",
    "print(fn)\n",
    "print(tn)\n",
    "accuracy = (tp+tn)/(tp+fn+fp+tn)\n",
    "print(accuracy)\n",
    "        \n",
    "        "
   ]
  },
  {
   "cell_type": "code",
   "execution_count": null,
   "id": "d303b69e",
   "metadata": {},
   "outputs": [],
   "source": []
  }
 ],
 "metadata": {
  "kernelspec": {
   "display_name": "Python 3 (ipykernel)",
   "language": "python",
   "name": "python3"
  },
  "language_info": {
   "codemirror_mode": {
    "name": "ipython",
    "version": 3
   },
   "file_extension": ".py",
   "mimetype": "text/x-python",
   "name": "python",
   "nbconvert_exporter": "python",
   "pygments_lexer": "ipython3",
   "version": "3.10.6"
  }
 },
 "nbformat": 4,
 "nbformat_minor": 5
}
